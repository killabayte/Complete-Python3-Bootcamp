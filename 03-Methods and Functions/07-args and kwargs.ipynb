{
 "cells": [
  {
   "cell_type": "code",
   "execution_count": 7,
   "id": "4ce0089d",
   "metadata": {},
   "outputs": [],
   "source": [
    "def myfunc(a,b, c=0, d=0):\n",
    "    #Returns 5% of the sum of a and b\n",
    "    return sum((a, b,c,d))*0.05"
   ]
  },
  {
   "cell_type": "code",
   "execution_count": 8,
   "id": "990dcfd2",
   "metadata": {},
   "outputs": [
    {
     "data": {
      "text/plain": [
       "5.0"
      ]
     },
     "execution_count": 8,
     "metadata": {},
     "output_type": "execute_result"
    }
   ],
   "source": [
    "myfunc(40,60)"
   ]
  },
  {
   "cell_type": "code",
   "execution_count": 9,
   "id": "b60af88a",
   "metadata": {},
   "outputs": [
    {
     "data": {
      "text/plain": [
       "15.05"
      ]
     },
     "execution_count": 9,
     "metadata": {},
     "output_type": "execute_result"
    }
   ],
   "source": [
    "myfunc(40, 60, 100, 101)"
   ]
  },
  {
   "cell_type": "code",
   "execution_count": 10,
   "id": "96966fa4",
   "metadata": {},
   "outputs": [
    {
     "ename": "TypeError",
     "evalue": "myfunc() takes from 2 to 4 positional arguments but 5 were given",
     "output_type": "error",
     "traceback": [
      "\u001b[0;31m---------------------------------------------------------------------------\u001b[0m",
      "\u001b[0;31mTypeError\u001b[0m                                 Traceback (most recent call last)",
      "\u001b[0;32m/var/folders/05/bggtyk4x4jj3x6_f_ws0c4jc0000gn/T/ipykernel_44476/2442468700.py\u001b[0m in \u001b[0;36m<module>\u001b[0;34m\u001b[0m\n\u001b[0;32m----> 1\u001b[0;31m \u001b[0mmyfunc\u001b[0m\u001b[0;34m(\u001b[0m\u001b[0;36m40\u001b[0m\u001b[0;34m,\u001b[0m \u001b[0;36m60\u001b[0m\u001b[0;34m,\u001b[0m \u001b[0;36m100\u001b[0m\u001b[0;34m,\u001b[0m \u001b[0;36m101\u001b[0m\u001b[0;34m,\u001b[0m \u001b[0;36m42\u001b[0m\u001b[0;34m)\u001b[0m\u001b[0;34m\u001b[0m\u001b[0;34m\u001b[0m\u001b[0m\n\u001b[0m",
      "\u001b[0;31mTypeError\u001b[0m: myfunc() takes from 2 to 4 positional arguments but 5 were given"
     ]
    }
   ],
   "source": [
    "myfunc(40, 60, 100, 101, 42)"
   ]
  },
  {
   "cell_type": "code",
   "execution_count": 12,
   "id": "5d90d7d6",
   "metadata": {},
   "outputs": [],
   "source": [
    "def myfunc(*args):\n",
    "    return sum(args) * 0.05"
   ]
  },
  {
   "cell_type": "code",
   "execution_count": 13,
   "id": "1b5758a0",
   "metadata": {},
   "outputs": [
    {
     "data": {
      "text/plain": [
       "17.150000000000002"
      ]
     },
     "execution_count": 13,
     "metadata": {},
     "output_type": "execute_result"
    }
   ],
   "source": [
    "myfunc(40, 60, 100, 101, 42)"
   ]
  },
  {
   "cell_type": "code",
   "execution_count": 14,
   "id": "cda612d0",
   "metadata": {},
   "outputs": [
    {
     "data": {
      "text/plain": [
       "27.75"
      ]
     },
     "execution_count": 14,
     "metadata": {},
     "output_type": "execute_result"
    }
   ],
   "source": [
    "myfunc(40, 60, 100, 101, 42, 77, 11, 124)"
   ]
  },
  {
   "cell_type": "code",
   "execution_count": 15,
   "id": "a711fbda",
   "metadata": {},
   "outputs": [],
   "source": [
    "def myfunc(*args):\n",
    "    print(args)\n",
    "    return sum(args) * 0.05"
   ]
  },
  {
   "cell_type": "code",
   "execution_count": 16,
   "id": "61db576f",
   "metadata": {},
   "outputs": [
    {
     "name": "stdout",
     "output_type": "stream",
     "text": [
      "(40, 60, 100, 101, 42, 77, 11, 124)\n"
     ]
    },
    {
     "data": {
      "text/plain": [
       "27.75"
      ]
     },
     "execution_count": 16,
     "metadata": {},
     "output_type": "execute_result"
    }
   ],
   "source": [
    "myfunc(40, 60, 100, 101, 42, 77, 11, 124)"
   ]
  },
  {
   "cell_type": "code",
   "execution_count": 17,
   "id": "e8432a78",
   "metadata": {},
   "outputs": [],
   "source": [
    "def myfunc(*spam):\n",
    "    print(spam)"
   ]
  },
  {
   "cell_type": "code",
   "execution_count": 18,
   "id": "2a7d3fd6",
   "metadata": {},
   "outputs": [
    {
     "name": "stdout",
     "output_type": "stream",
     "text": [
      "(40, 60, 100, 101, 42, 77, 11, 124)\n"
     ]
    }
   ],
   "source": [
    "myfunc(40, 60, 100, 101, 42, 77, 11, 124)"
   ]
  },
  {
   "cell_type": "code",
   "execution_count": 21,
   "id": "de43795b",
   "metadata": {},
   "outputs": [],
   "source": [
    "def myfunc(**kwargs):\n",
    "    if 'fruit' in kwargs:\n",
    "        print(f\"My fruit of choice is {kwargs['fruit']}\")\n",
    "    else:\n",
    "        print('I didnt find any fruit here')"
   ]
  },
  {
   "cell_type": "code",
   "execution_count": 22,
   "id": "33b5e538",
   "metadata": {},
   "outputs": [
    {
     "name": "stdout",
     "output_type": "stream",
     "text": [
      "My fruit of choice is apple\n"
     ]
    }
   ],
   "source": [
    "myfunc(fruit='apple', veggie = 'lettuce')"
   ]
  },
  {
   "cell_type": "code",
   "execution_count": 23,
   "id": "73e61b9a",
   "metadata": {},
   "outputs": [],
   "source": [
    "def myfunc(**kwargs):\n",
    "    print(kwargs)\n",
    "    if 'fruit' in kwargs:\n",
    "        print(f\"My fruit of choice is {kwargs['fruit']}\")\n",
    "    else:\n",
    "        print('I didnt find any fruit here')"
   ]
  },
  {
   "cell_type": "code",
   "execution_count": 24,
   "id": "28b8254f",
   "metadata": {},
   "outputs": [
    {
     "name": "stdout",
     "output_type": "stream",
     "text": [
      "{'fruit': 'apple', 'veggie': 'lettuce'}\n",
      "My fruit of choice is apple\n"
     ]
    }
   ],
   "source": [
    "myfunc(fruit='apple', veggie = 'lettuce')"
   ]
  },
  {
   "cell_type": "code",
   "execution_count": 25,
   "id": "dd69ae24",
   "metadata": {},
   "outputs": [],
   "source": [
    "def myjelly(**jelly):\n",
    "    print(type(jelly))\n",
    "    print(jelly)"
   ]
  },
  {
   "cell_type": "code",
   "execution_count": 26,
   "id": "149fabfb",
   "metadata": {},
   "outputs": [
    {
     "name": "stdout",
     "output_type": "stream",
     "text": [
      "<class 'dict'>\n",
      "{'jelly': 'jelly'}\n"
     ]
    }
   ],
   "source": [
    "myjelly(jelly='jelly')"
   ]
  },
  {
   "cell_type": "code",
   "execution_count": null,
   "id": "128b3f9b",
   "metadata": {},
   "outputs": [],
   "source": []
  }
 ],
 "metadata": {
  "kernelspec": {
   "display_name": "Python 3 (ipykernel)",
   "language": "python",
   "name": "python3"
  },
  "language_info": {
   "codemirror_mode": {
    "name": "ipython",
    "version": 3
   },
   "file_extension": ".py",
   "mimetype": "text/x-python",
   "name": "python",
   "nbconvert_exporter": "python",
   "pygments_lexer": "ipython3",
   "version": "3.9.7"
  }
 },
 "nbformat": 4,
 "nbformat_minor": 5
}
