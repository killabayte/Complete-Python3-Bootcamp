{
 "cells": [
  {
   "cell_type": "code",
   "execution_count": 5,
   "id": "94f0d441",
   "metadata": {},
   "outputs": [],
   "source": [
    "def say_hello():\n",
    "    print(\"Hello\")\n",
    "    print(\"how\")\n",
    "    print(\"are\")\n",
    "    print(\"you?\")"
   ]
  },
  {
   "cell_type": "code",
   "execution_count": 6,
   "id": "98ae2f57",
   "metadata": {},
   "outputs": [
    {
     "name": "stdout",
     "output_type": "stream",
     "text": [
      "Hello\n",
      "how\n",
      "are\n",
      "you?\n"
     ]
    }
   ],
   "source": [
    "say_hello()"
   ]
  },
  {
   "cell_type": "code",
   "execution_count": 7,
   "id": "5cbaf43f",
   "metadata": {},
   "outputs": [
    {
     "data": {
      "text/plain": [
       "<function __main__.say_hello()>"
      ]
     },
     "execution_count": 7,
     "metadata": {},
     "output_type": "execute_result"
    }
   ],
   "source": [
    "say_hello"
   ]
  },
  {
   "cell_type": "code",
   "execution_count": 18,
   "id": "ae7fd00e",
   "metadata": {},
   "outputs": [],
   "source": [
    "def say_hello(name: str = \"Jhon Do\") -> str:\n",
    "    print(f'Hello {name}')"
   ]
  },
  {
   "cell_type": "code",
   "execution_count": 19,
   "id": "d9171c6c",
   "metadata": {},
   "outputs": [
    {
     "name": "stdout",
     "output_type": "stream",
     "text": [
      "Hello Harry\n"
     ]
    }
   ],
   "source": [
    "say_hello('Harry')"
   ]
  },
  {
   "cell_type": "code",
   "execution_count": 20,
   "id": "fd0ce075",
   "metadata": {},
   "outputs": [
    {
     "name": "stdout",
     "output_type": "stream",
     "text": [
      "Hello Jhon Do\n"
     ]
    }
   ],
   "source": [
    "say_hello()"
   ]
  },
  {
   "cell_type": "code",
   "execution_count": 34,
   "id": "512b4641",
   "metadata": {},
   "outputs": [],
   "source": [
    "def add_num(num1:int = 1, num2: int = 2) -> int :\n",
    "    return num1+num2\n",
    "    "
   ]
  },
  {
   "cell_type": "code",
   "execution_count": 35,
   "id": "89ccea49",
   "metadata": {},
   "outputs": [
    {
     "data": {
      "text/plain": [
       "24"
      ]
     },
     "execution_count": 35,
     "metadata": {},
     "output_type": "execute_result"
    }
   ],
   "source": [
    "add_num(12,12)"
   ]
  },
  {
   "cell_type": "code",
   "execution_count": 36,
   "id": "91d875ec",
   "metadata": {},
   "outputs": [
    {
     "data": {
      "text/plain": [
       "3"
      ]
     },
     "execution_count": 36,
     "metadata": {},
     "output_type": "execute_result"
    }
   ],
   "source": [
    "add_num()"
   ]
  },
  {
   "cell_type": "code",
   "execution_count": 37,
   "id": "77bb0e9c",
   "metadata": {},
   "outputs": [],
   "source": [
    "result = add_num(21, 21)"
   ]
  },
  {
   "cell_type": "code",
   "execution_count": 38,
   "id": "2e5fde3a",
   "metadata": {},
   "outputs": [
    {
     "data": {
      "text/plain": [
       "42"
      ]
     },
     "execution_count": 38,
     "metadata": {},
     "output_type": "execute_result"
    }
   ],
   "source": [
    "result"
   ]
  },
  {
   "cell_type": "code",
   "execution_count": 39,
   "id": "ef633de0",
   "metadata": {},
   "outputs": [],
   "source": [
    "def print_result(a, b):\n",
    "    print(a+b)"
   ]
  },
  {
   "cell_type": "code",
   "execution_count": 40,
   "id": "4cb78efe",
   "metadata": {},
   "outputs": [],
   "source": [
    "def return_result(a, b):\n",
    "    return(a+b)"
   ]
  },
  {
   "cell_type": "code",
   "execution_count": 41,
   "id": "8612068b",
   "metadata": {},
   "outputs": [
    {
     "name": "stdout",
     "output_type": "stream",
     "text": [
      "33\n"
     ]
    }
   ],
   "source": [
    "print_result(11,22) # No out cell"
   ]
  },
  {
   "cell_type": "code",
   "execution_count": 42,
   "id": "99115e23",
   "metadata": {},
   "outputs": [
    {
     "name": "stdout",
     "output_type": "stream",
     "text": [
      "33\n"
     ]
    }
   ],
   "source": [
    "result = print_result(11,22)"
   ]
  },
  {
   "cell_type": "code",
   "execution_count": 43,
   "id": "4733f48c",
   "metadata": {},
   "outputs": [],
   "source": [
    "result"
   ]
  },
  {
   "cell_type": "code",
   "execution_count": 44,
   "id": "108ff109",
   "metadata": {},
   "outputs": [
    {
     "data": {
      "text/plain": [
       "NoneType"
      ]
     },
     "execution_count": 44,
     "metadata": {},
     "output_type": "execute_result"
    }
   ],
   "source": [
    "type(result)"
   ]
  },
  {
   "cell_type": "code",
   "execution_count": 45,
   "id": "ead87ba6",
   "metadata": {},
   "outputs": [
    {
     "data": {
      "text/plain": [
       "30"
      ]
     },
     "execution_count": 45,
     "metadata": {},
     "output_type": "execute_result"
    }
   ],
   "source": [
    "return_result(10,20)"
   ]
  },
  {
   "cell_type": "code",
   "execution_count": 46,
   "id": "b3ed9c89",
   "metadata": {},
   "outputs": [],
   "source": [
    "result = return_result(11,22)"
   ]
  },
  {
   "cell_type": "code",
   "execution_count": 47,
   "id": "ffa8670e",
   "metadata": {},
   "outputs": [
    {
     "data": {
      "text/plain": [
       "33"
      ]
     },
     "execution_count": 47,
     "metadata": {},
     "output_type": "execute_result"
    }
   ],
   "source": [
    "result"
   ]
  },
  {
   "cell_type": "code",
   "execution_count": 48,
   "id": "f89bf3c9",
   "metadata": {},
   "outputs": [],
   "source": [
    "def myfunc(a, b):\n",
    "    print(a+b)\n",
    "    return(a+b)# return will stop code execution and must be in the end"
   ]
  },
  {
   "cell_type": "code",
   "execution_count": 49,
   "id": "2e8119b6",
   "metadata": {},
   "outputs": [
    {
     "name": "stdout",
     "output_type": "stream",
     "text": [
      "33\n"
     ]
    }
   ],
   "source": [
    "result = myfunc(11,22)"
   ]
  },
  {
   "cell_type": "code",
   "execution_count": 50,
   "id": "3d2b46fc",
   "metadata": {},
   "outputs": [],
   "source": [
    "def sum_numbers(n1,n2):\n",
    "    return n1+n2"
   ]
  },
  {
   "cell_type": "code",
   "execution_count": 51,
   "id": "7b11885c",
   "metadata": {},
   "outputs": [
    {
     "data": {
      "text/plain": [
       "33"
      ]
     },
     "execution_count": 51,
     "metadata": {},
     "output_type": "execute_result"
    }
   ],
   "source": [
    "sum_numbers(11,22)"
   ]
  },
  {
   "cell_type": "code",
   "execution_count": 52,
   "id": "cf690111",
   "metadata": {},
   "outputs": [
    {
     "data": {
      "text/plain": [
       "'DeanSam'"
      ]
     },
     "execution_count": 52,
     "metadata": {},
     "output_type": "execute_result"
    }
   ],
   "source": [
    "sum_numbers('Dean', 'Sam')"
   ]
  },
  {
   "cell_type": "code",
   "execution_count": null,
   "id": "62172495",
   "metadata": {},
   "outputs": [],
   "source": []
  }
 ],
 "metadata": {
  "kernelspec": {
   "display_name": "Python 3 (ipykernel)",
   "language": "python",
   "name": "python3"
  },
  "language_info": {
   "codemirror_mode": {
    "name": "ipython",
    "version": 3
   },
   "file_extension": ".py",
   "mimetype": "text/x-python",
   "name": "python",
   "nbconvert_exporter": "python",
   "pygments_lexer": "ipython3",
   "version": "3.9.7"
  }
 },
 "nbformat": 4,
 "nbformat_minor": 5
}
