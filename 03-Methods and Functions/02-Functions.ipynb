{
 "cells": [
  {
   "cell_type": "code",
   "execution_count": 5,
   "id": "d82debae",
   "metadata": {},
   "outputs": [],
   "source": [
    "def say_hello():\n",
    "    print(\"Hello\")\n",
    "    print(\"how\")\n",
    "    print(\"are\")\n",
    "    print(\"you?\")"
   ]
  },
  {
   "cell_type": "code",
   "execution_count": 6,
   "id": "00a6a94b",
   "metadata": {},
   "outputs": [
    {
     "name": "stdout",
     "output_type": "stream",
     "text": [
      "Hello\n",
      "how\n",
      "are\n",
      "you?\n"
     ]
    }
   ],
   "source": [
    "say_hello()"
   ]
  },
  {
   "cell_type": "code",
   "execution_count": 7,
   "id": "f13cb566",
   "metadata": {},
   "outputs": [
    {
     "data": {
      "text/plain": [
       "<function __main__.say_hello()>"
      ]
     },
     "execution_count": 7,
     "metadata": {},
     "output_type": "execute_result"
    }
   ],
   "source": [
    "say_hello"
   ]
  },
  {
   "cell_type": "code",
   "execution_count": 18,
   "id": "5d804250",
   "metadata": {},
   "outputs": [],
   "source": [
    "def say_hello(name: str = \"Jhon Do\") -> str:\n",
    "    print(f'Hello {name}')"
   ]
  },
  {
   "cell_type": "code",
   "execution_count": 19,
   "id": "9d905955",
   "metadata": {},
   "outputs": [
    {
     "name": "stdout",
     "output_type": "stream",
     "text": [
      "Hello Harry\n"
     ]
    }
   ],
   "source": [
    "say_hello('Harry')"
   ]
  },
  {
   "cell_type": "code",
   "execution_count": 20,
   "id": "7a3fda7b",
   "metadata": {},
   "outputs": [
    {
     "name": "stdout",
     "output_type": "stream",
     "text": [
      "Hello Jhon Do\n"
     ]
    }
   ],
   "source": [
    "say_hello()"
   ]
  },
  {
   "cell_type": "code",
   "execution_count": 34,
   "id": "a3ad7e14",
   "metadata": {},
   "outputs": [],
   "source": [
    "def add_num(num1:int = 1, num2: int = 2) -> int :\n",
    "    return num1+num2\n",
    "    "
   ]
  },
  {
   "cell_type": "code",
   "execution_count": 35,
   "id": "8e26104d",
   "metadata": {},
   "outputs": [
    {
     "data": {
      "text/plain": [
       "24"
      ]
     },
     "execution_count": 35,
     "metadata": {},
     "output_type": "execute_result"
    }
   ],
   "source": [
    "add_num(12,12)"
   ]
  },
  {
   "cell_type": "code",
   "execution_count": 36,
   "id": "e7260377",
   "metadata": {},
   "outputs": [
    {
     "data": {
      "text/plain": [
       "3"
      ]
     },
     "execution_count": 36,
     "metadata": {},
     "output_type": "execute_result"
    }
   ],
   "source": [
    "add_num()"
   ]
  },
  {
   "cell_type": "code",
   "execution_count": 37,
   "id": "c853d109",
   "metadata": {},
   "outputs": [],
   "source": [
    "result = add_num(21, 21)"
   ]
  },
  {
   "cell_type": "code",
   "execution_count": 38,
   "id": "40e9598c",
   "metadata": {},
   "outputs": [
    {
     "data": {
      "text/plain": [
       "42"
      ]
     },
     "execution_count": 38,
     "metadata": {},
     "output_type": "execute_result"
    }
   ],
   "source": [
    "result"
   ]
  },
  {
   "cell_type": "code",
   "execution_count": 39,
   "id": "711b1c9f",
   "metadata": {},
   "outputs": [],
   "source": [
    "def print_result(a, b):\n",
    "    print(a+b)"
   ]
  },
  {
   "cell_type": "code",
   "execution_count": 40,
   "id": "9e50994c",
   "metadata": {},
   "outputs": [],
   "source": [
    "def return_result(a, b):\n",
    "    return(a+b)"
   ]
  },
  {
   "cell_type": "code",
   "execution_count": 41,
   "id": "bf92aad4",
   "metadata": {},
   "outputs": [
    {
     "name": "stdout",
     "output_type": "stream",
     "text": [
      "33\n"
     ]
    }
   ],
   "source": [
    "print_result(11,22) # No out cell"
   ]
  },
  {
   "cell_type": "code",
   "execution_count": 42,
   "id": "76555d21",
   "metadata": {},
   "outputs": [
    {
     "name": "stdout",
     "output_type": "stream",
     "text": [
      "33\n"
     ]
    }
   ],
   "source": [
    "result = print_result(11,22)"
   ]
  },
  {
   "cell_type": "code",
   "execution_count": 43,
   "id": "725e018e",
   "metadata": {},
   "outputs": [],
   "source": [
    "result"
   ]
  },
  {
   "cell_type": "code",
   "execution_count": 44,
   "id": "77871be8",
   "metadata": {},
   "outputs": [
    {
     "data": {
      "text/plain": [
       "NoneType"
      ]
     },
     "execution_count": 44,
     "metadata": {},
     "output_type": "execute_result"
    }
   ],
   "source": [
    "type(result)"
   ]
  },
  {
   "cell_type": "code",
   "execution_count": 45,
   "id": "4624025b",
   "metadata": {},
   "outputs": [
    {
     "data": {
      "text/plain": [
       "30"
      ]
     },
     "execution_count": 45,
     "metadata": {},
     "output_type": "execute_result"
    }
   ],
   "source": [
    "return_result(10,20)"
   ]
  },
  {
   "cell_type": "code",
   "execution_count": 46,
   "id": "035f4c1c",
   "metadata": {},
   "outputs": [],
   "source": [
    "result = return_result(11,22)"
   ]
  },
  {
   "cell_type": "code",
   "execution_count": 47,
   "id": "1a2e45d7",
   "metadata": {},
   "outputs": [
    {
     "data": {
      "text/plain": [
       "33"
      ]
     },
     "execution_count": 47,
     "metadata": {},
     "output_type": "execute_result"
    }
   ],
   "source": [
    "result"
   ]
  },
  {
   "cell_type": "code",
   "execution_count": 48,
   "id": "f67772cb",
   "metadata": {},
   "outputs": [],
   "source": [
    "def myfunc(a, b):\n",
    "    print(a+b)\n",
    "    return(a+b)# return will stop code execution and must be in the end"
   ]
  },
  {
   "cell_type": "code",
   "execution_count": 49,
   "id": "628538a8",
   "metadata": {},
   "outputs": [
    {
     "name": "stdout",
     "output_type": "stream",
     "text": [
      "33\n"
     ]
    }
   ],
   "source": [
    "result = myfunc(11,22)"
   ]
  },
  {
   "cell_type": "code",
   "execution_count": 50,
   "id": "42fcf7f1",
   "metadata": {},
   "outputs": [],
   "source": [
    "def sum_numbers(n1,n2):\n",
    "    return n1+n2"
   ]
  },
  {
   "cell_type": "code",
   "execution_count": 51,
   "id": "dd5e866f",
   "metadata": {},
   "outputs": [
    {
     "data": {
      "text/plain": [
       "33"
      ]
     },
     "execution_count": 51,
     "metadata": {},
     "output_type": "execute_result"
    }
   ],
   "source": [
    "sum_numbers(11,22)"
   ]
  },
  {
   "cell_type": "code",
   "execution_count": 52,
   "id": "a8766efe",
   "metadata": {},
   "outputs": [
    {
     "data": {
      "text/plain": [
       "'DeanSam'"
      ]
     },
     "execution_count": 52,
     "metadata": {},
     "output_type": "execute_result"
    }
   ],
   "source": [
    "sum_numbers('Dean', 'Sam')"
   ]
  },
  {
   "cell_type": "code",
   "execution_count": 53,
   "id": "5fbe2a80",
   "metadata": {},
   "outputs": [
    {
     "data": {
      "text/plain": [
       "0"
      ]
     },
     "execution_count": 53,
     "metadata": {},
     "output_type": "execute_result"
    }
   ],
   "source": [
    "2 % 2 "
   ]
  },
  {
   "cell_type": "code",
   "execution_count": 54,
   "id": "0232a807",
   "metadata": {},
   "outputs": [
    {
     "data": {
      "text/plain": [
       "1"
      ]
     },
     "execution_count": 54,
     "metadata": {},
     "output_type": "execute_result"
    }
   ],
   "source": [
    "3 % 2"
   ]
  },
  {
   "cell_type": "code",
   "execution_count": 55,
   "id": "288069de",
   "metadata": {},
   "outputs": [
    {
     "data": {
      "text/plain": [
       "True"
      ]
     },
     "execution_count": 55,
     "metadata": {},
     "output_type": "execute_result"
    }
   ],
   "source": [
    "20 % 2 == 0"
   ]
  },
  {
   "cell_type": "code",
   "execution_count": 56,
   "id": "add3ee89",
   "metadata": {},
   "outputs": [
    {
     "data": {
      "text/plain": [
       "False"
      ]
     },
     "execution_count": 56,
     "metadata": {},
     "output_type": "execute_result"
    }
   ],
   "source": [
    "21 % 2 == 0"
   ]
  },
  {
   "cell_type": "code",
   "execution_count": 57,
   "id": "b3bbbbea",
   "metadata": {},
   "outputs": [],
   "source": [
    "def even_check(number: int = 0) -> int:\n",
    "    return number % 2 == 0 "
   ]
  },
  {
   "cell_type": "code",
   "execution_count": 58,
   "id": "c31887f4",
   "metadata": {},
   "outputs": [
    {
     "data": {
      "text/plain": [
       "True"
      ]
     },
     "execution_count": 58,
     "metadata": {},
     "output_type": "execute_result"
    }
   ],
   "source": [
    "even_check(20)"
   ]
  },
  {
   "cell_type": "code",
   "execution_count": 59,
   "id": "c7c2d0a6",
   "metadata": {},
   "outputs": [
    {
     "data": {
      "text/plain": [
       "False"
      ]
     },
     "execution_count": 59,
     "metadata": {},
     "output_type": "execute_result"
    }
   ],
   "source": [
    "even_check(11)"
   ]
  },
  {
   "cell_type": "code",
   "execution_count": 72,
   "id": "9c0bb10b",
   "metadata": {},
   "outputs": [],
   "source": [
    "# Return true if any num is even inside a list\n",
    "import typing\n",
    "\n",
    "def check_even_list(num_list: list[int]) -> bool:\n",
    "    for n in num_list:\n",
    "        if n % 2 == 0:\n",
    "            return True\n",
    "        else:\n",
    "            #return False - is wrong!\n",
    "            pass\n",
    "    return False"
   ]
  },
  {
   "cell_type": "code",
   "execution_count": 67,
   "id": "f4b66a5a",
   "metadata": {},
   "outputs": [],
   "source": [
    "check_even_list([1,3,5])"
   ]
  },
  {
   "cell_type": "code",
   "execution_count": 68,
   "id": "db9c06b5",
   "metadata": {},
   "outputs": [
    {
     "data": {
      "text/plain": [
       "True"
      ]
     },
     "execution_count": 68,
     "metadata": {},
     "output_type": "execute_result"
    }
   ],
   "source": [
    "check_even_list([2,4,6])"
   ]
  },
  {
   "cell_type": "code",
   "execution_count": 69,
   "id": "55b4d0b4",
   "metadata": {},
   "outputs": [
    {
     "ename": "TypeError",
     "evalue": "not all arguments converted during string formatting",
     "output_type": "error",
     "traceback": [
      "\u001b[0;31m---------------------------------------------------------------------------\u001b[0m",
      "\u001b[0;31mTypeError\u001b[0m                                 Traceback (most recent call last)",
      "\u001b[0;32m/var/folders/05/bggtyk4x4jj3x6_f_ws0c4jc0000gn/T/ipykernel_23667/1738178479.py\u001b[0m in \u001b[0;36m<module>\u001b[0;34m\u001b[0m\n\u001b[0;32m----> 1\u001b[0;31m \u001b[0mcheck_even_list\u001b[0m\u001b[0;34m(\u001b[0m\u001b[0;34m[\u001b[0m\u001b[0;34m'one'\u001b[0m\u001b[0;34m,\u001b[0m\u001b[0;34m'2'\u001b[0m\u001b[0;34m,\u001b[0m\u001b[0;34m'3'\u001b[0m\u001b[0;34m]\u001b[0m\u001b[0;34m)\u001b[0m\u001b[0;34m\u001b[0m\u001b[0;34m\u001b[0m\u001b[0m\n\u001b[0m",
      "\u001b[0;32m/var/folders/05/bggtyk4x4jj3x6_f_ws0c4jc0000gn/T/ipykernel_23667/3168580349.py\u001b[0m in \u001b[0;36mcheck_even_list\u001b[0;34m(num_list)\u001b[0m\n\u001b[1;32m      4\u001b[0m \u001b[0;32mdef\u001b[0m \u001b[0mcheck_even_list\u001b[0m\u001b[0;34m(\u001b[0m\u001b[0mnum_list\u001b[0m\u001b[0;34m:\u001b[0m \u001b[0mlist\u001b[0m\u001b[0;34m[\u001b[0m\u001b[0mint\u001b[0m\u001b[0;34m]\u001b[0m\u001b[0;34m)\u001b[0m \u001b[0;34m->\u001b[0m \u001b[0mbool\u001b[0m\u001b[0;34m:\u001b[0m\u001b[0;34m\u001b[0m\u001b[0;34m\u001b[0m\u001b[0m\n\u001b[1;32m      5\u001b[0m     \u001b[0;32mfor\u001b[0m \u001b[0mn\u001b[0m \u001b[0;32min\u001b[0m \u001b[0mnum_list\u001b[0m\u001b[0;34m:\u001b[0m\u001b[0;34m\u001b[0m\u001b[0;34m\u001b[0m\u001b[0m\n\u001b[0;32m----> 6\u001b[0;31m         \u001b[0;32mif\u001b[0m \u001b[0mn\u001b[0m \u001b[0;34m%\u001b[0m \u001b[0;36m2\u001b[0m \u001b[0;34m==\u001b[0m \u001b[0;36m0\u001b[0m\u001b[0;34m:\u001b[0m\u001b[0;34m\u001b[0m\u001b[0;34m\u001b[0m\u001b[0m\n\u001b[0m\u001b[1;32m      7\u001b[0m             \u001b[0;32mreturn\u001b[0m \u001b[0;32mTrue\u001b[0m\u001b[0;34m\u001b[0m\u001b[0;34m\u001b[0m\u001b[0m\n\u001b[1;32m      8\u001b[0m         \u001b[0;32melse\u001b[0m\u001b[0;34m:\u001b[0m\u001b[0;34m\u001b[0m\u001b[0;34m\u001b[0m\u001b[0m\n",
      "\u001b[0;31mTypeError\u001b[0m: not all arguments converted during string formatting"
     ]
    }
   ],
   "source": [
    "check_even_list(['one','2','3'])"
   ]
  },
  {
   "cell_type": "code",
   "execution_count": 70,
   "id": "7cafb9e5",
   "metadata": {},
   "outputs": [
    {
     "data": {
      "text/plain": [
       "True"
      ]
     },
     "execution_count": 70,
     "metadata": {},
     "output_type": "execute_result"
    }
   ],
   "source": [
    "check_even_list([2,1,1,1,1])"
   ]
  },
  {
   "cell_type": "code",
   "execution_count": 71,
   "id": "ec0ff60e",
   "metadata": {},
   "outputs": [
    {
     "data": {
      "text/plain": [
       "True"
      ]
     },
     "execution_count": 71,
     "metadata": {},
     "output_type": "execute_result"
    }
   ],
   "source": [
    "check_even_list([1,1,1,1,1,2])"
   ]
  },
  {
   "cell_type": "code",
   "execution_count": 73,
   "id": "07531ce6",
   "metadata": {},
   "outputs": [
    {
     "data": {
      "text/plain": [
       "False"
      ]
     },
     "execution_count": 73,
     "metadata": {},
     "output_type": "execute_result"
    }
   ],
   "source": [
    "check_even_list([1,3,5,7,9])"
   ]
  },
  {
   "cell_type": "code",
   "execution_count": 86,
   "id": "53b8c208",
   "metadata": {},
   "outputs": [],
   "source": [
    "# Return true if any num is even inside a list\n",
    "import typing\n",
    "\n",
    "# Return all the even numbers in a list\n",
    "\n",
    "def check_even_list(num_list: list[int]) -> bool:\n",
    "    even_numbers = [] \n",
    "    \n",
    "    for n in num_list:\n",
    "        if n % 2 == 0:\n",
    "            even_numbers.append(n)\n",
    "        else:\n",
    "            pass\n",
    "    return even_numbers"
   ]
  },
  {
   "cell_type": "code",
   "execution_count": 87,
   "id": "1fd5bda3",
   "metadata": {},
   "outputs": [
    {
     "data": {
      "text/plain": [
       "[2, 4, 6, 8, 10]"
      ]
     },
     "execution_count": 87,
     "metadata": {},
     "output_type": "execute_result"
    }
   ],
   "source": [
    "check_even_list([1,2,3,4,5,6,7,8,9,10])"
   ]
  },
  {
   "cell_type": "code",
   "execution_count": 88,
   "id": "3060fbc6",
   "metadata": {},
   "outputs": [
    {
     "data": {
      "text/plain": [
       "[]"
      ]
     },
     "execution_count": 88,
     "metadata": {},
     "output_type": "execute_result"
    }
   ],
   "source": [
    "check_even_list([1,3,5])"
   ]
  },
  {
   "cell_type": "code",
   "execution_count": 89,
   "id": "8c8b7203",
   "metadata": {},
   "outputs": [],
   "source": [
    "stock_prices = [('Apple', 200), ('Google', 150), ('Microsoft', 50)]"
   ]
  },
  {
   "cell_type": "code",
   "execution_count": 91,
   "id": "a322eaa1",
   "metadata": {},
   "outputs": [
    {
     "name": "stdout",
     "output_type": "stream",
     "text": [
      "('Apple', 200)\n",
      "('Google', 150)\n",
      "('Microsoft', 50)\n"
     ]
    }
   ],
   "source": [
    "for item in stock_prices:\n",
    "    print(item)"
   ]
  },
  {
   "cell_type": "code",
   "execution_count": 93,
   "id": "53409307",
   "metadata": {},
   "outputs": [
    {
     "name": "stdout",
     "output_type": "stream",
     "text": [
      "Apple\n",
      "Google\n",
      "Microsoft\n"
     ]
    }
   ],
   "source": [
    "for ticker, price in stock_prices:\n",
    "    print(ticker)"
   ]
  },
  {
   "cell_type": "code",
   "execution_count": 94,
   "id": "ba3d16b6",
   "metadata": {},
   "outputs": [
    {
     "name": "stdout",
     "output_type": "stream",
     "text": [
      "220.0\n",
      "165.0\n",
      "55.0\n"
     ]
    }
   ],
   "source": [
    "for ticker, price in stock_prices:\n",
    "    print(price+(0.1*price))"
   ]
  },
  {
   "cell_type": "code",
   "execution_count": 98,
   "id": "bf186608",
   "metadata": {},
   "outputs": [],
   "source": [
    "work_hours = [('Abby', 100), ('Billy', 400), ('Cassie', 800)]"
   ]
  },
  {
   "cell_type": "code",
   "execution_count": 99,
   "id": "aef5d835",
   "metadata": {},
   "outputs": [],
   "source": [
    "def employee_check(work_hours):\n",
    "    \n",
    "    current_max = 0\n",
    "    employee_of_month = ''\n",
    "    \n",
    "    for employee, hours in work_hours:\n",
    "        if hours > current_max:\n",
    "            current_max = hours\n",
    "            employee_of_month = employee\n",
    "        else:\n",
    "            pass\n",
    "    \n",
    "    return(employee_of_month, current_max)"
   ]
  },
  {
   "cell_type": "code",
   "execution_count": 100,
   "id": "77d93797",
   "metadata": {},
   "outputs": [
    {
     "data": {
      "text/plain": [
       "('Cassie', 800)"
      ]
     },
     "execution_count": 100,
     "metadata": {},
     "output_type": "execute_result"
    }
   ],
   "source": [
    "employee_check(work_hours)"
   ]
  },
  {
   "cell_type": "code",
   "execution_count": 104,
   "id": "eaad496a",
   "metadata": {},
   "outputs": [],
   "source": [
    "work_hours = [('Abby', 100), ('Billy', 400), ('Cassie', 800), ('Harry', 1001)]"
   ]
  },
  {
   "cell_type": "code",
   "execution_count": 108,
   "id": "b2d293a7",
   "metadata": {},
   "outputs": [
    {
     "data": {
      "text/plain": [
       "('Harry', 1001)"
      ]
     },
     "execution_count": 108,
     "metadata": {},
     "output_type": "execute_result"
    }
   ],
   "source": [
    "employee_check(work_hours)"
   ]
  },
  {
   "cell_type": "code",
   "execution_count": 109,
   "id": "69cd7e4c",
   "metadata": {},
   "outputs": [],
   "source": [
    "result = employee_check(work_hours)"
   ]
  },
  {
   "cell_type": "code",
   "execution_count": 110,
   "id": "c459d28b",
   "metadata": {},
   "outputs": [
    {
     "data": {
      "text/plain": [
       "tuple"
      ]
     },
     "execution_count": 110,
     "metadata": {},
     "output_type": "execute_result"
    }
   ],
   "source": [
    "type(result)"
   ]
  },
  {
   "cell_type": "code",
   "execution_count": 111,
   "id": "8d0dbeb3",
   "metadata": {},
   "outputs": [
    {
     "data": {
      "text/plain": [
       "('Harry', 1001)"
      ]
     },
     "execution_count": 111,
     "metadata": {},
     "output_type": "execute_result"
    }
   ],
   "source": [
    "result"
   ]
  },
  {
   "cell_type": "code",
   "execution_count": 112,
   "id": "f95f3159",
   "metadata": {},
   "outputs": [],
   "source": [
    "name,hours = employee_check(work_hours)"
   ]
  },
  {
   "cell_type": "code",
   "execution_count": 113,
   "id": "81f1eabf",
   "metadata": {},
   "outputs": [
    {
     "data": {
      "text/plain": [
       "'Harry'"
      ]
     },
     "execution_count": 113,
     "metadata": {},
     "output_type": "execute_result"
    }
   ],
   "source": [
    "name"
   ]
  },
  {
   "cell_type": "code",
   "execution_count": 114,
   "id": "450cc14e",
   "metadata": {},
   "outputs": [
    {
     "data": {
      "text/plain": [
       "1001"
      ]
     },
     "execution_count": 114,
     "metadata": {},
     "output_type": "execute_result"
    }
   ],
   "source": [
    "hours"
   ]
  },
  {
   "cell_type": "code",
   "execution_count": 115,
   "id": "221e2e81",
   "metadata": {},
   "outputs": [
    {
     "ename": "ValueError",
     "evalue": "not enough values to unpack (expected 3, got 2)",
     "output_type": "error",
     "traceback": [
      "\u001b[0;31m---------------------------------------------------------------------------\u001b[0m",
      "\u001b[0;31mValueError\u001b[0m                                Traceback (most recent call last)",
      "\u001b[0;32m/var/folders/05/bggtyk4x4jj3x6_f_ws0c4jc0000gn/T/ipykernel_23667/1298984524.py\u001b[0m in \u001b[0;36m<module>\u001b[0;34m\u001b[0m\n\u001b[0;32m----> 1\u001b[0;31m \u001b[0mname\u001b[0m\u001b[0;34m,\u001b[0m\u001b[0mhours\u001b[0m\u001b[0;34m,\u001b[0m\u001b[0msomething_else\u001b[0m \u001b[0;34m=\u001b[0m \u001b[0memployee_check\u001b[0m\u001b[0;34m(\u001b[0m\u001b[0mwork_hours\u001b[0m\u001b[0;34m)\u001b[0m\u001b[0;34m\u001b[0m\u001b[0;34m\u001b[0m\u001b[0m\n\u001b[0m",
      "\u001b[0;31mValueError\u001b[0m: not enough values to unpack (expected 3, got 2)"
     ]
    }
   ],
   "source": [
    "name,hours,something_else = employee_check(work_hours)"
   ]
  },
  {
   "cell_type": "code",
   "execution_count": 116,
   "id": "e1b31700",
   "metadata": {},
   "outputs": [],
   "source": [
    "#How to check it before?\n",
    "item = employee_check(work_hours)\n"
   ]
  },
  {
   "cell_type": "code",
   "execution_count": 117,
   "id": "2fb54a8e",
   "metadata": {},
   "outputs": [
    {
     "data": {
      "text/plain": [
       "('Harry', 1001)"
      ]
     },
     "execution_count": 117,
     "metadata": {},
     "output_type": "execute_result"
    }
   ],
   "source": [
    "item # Now we know the elements which were returned"
   ]
  },
  {
   "cell_type": "code",
   "execution_count": null,
   "id": "d0ca4d7b",
   "metadata": {},
   "outputs": [],
   "source": []
  }
 ],
 "metadata": {
  "kernelspec": {
   "display_name": "Python 3 (ipykernel)",
   "language": "python",
   "name": "python3"
  },
  "language_info": {
   "codemirror_mode": {
    "name": "ipython",
    "version": 3
   },
   "file_extension": ".py",
   "mimetype": "text/x-python",
   "name": "python",
   "nbconvert_exporter": "python",
   "pygments_lexer": "ipython3",
   "version": "3.9.7"
  }
 },
 "nbformat": 4,
 "nbformat_minor": 5
}
