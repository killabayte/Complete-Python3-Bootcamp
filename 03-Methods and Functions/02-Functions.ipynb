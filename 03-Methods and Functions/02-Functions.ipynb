{
 "cells": [
  {
   "cell_type": "code",
   "execution_count": 5,
   "id": "32035386",
   "metadata": {},
   "outputs": [],
   "source": [
    "def say_hello():\n",
    "    print(\"Hello\")\n",
    "    print(\"how\")\n",
    "    print(\"are\")\n",
    "    print(\"you?\")"
   ]
  },
  {
   "cell_type": "code",
   "execution_count": 6,
   "id": "b4680f61",
   "metadata": {},
   "outputs": [
    {
     "name": "stdout",
     "output_type": "stream",
     "text": [
      "Hello\n",
      "how\n",
      "are\n",
      "you?\n"
     ]
    }
   ],
   "source": [
    "say_hello()"
   ]
  },
  {
   "cell_type": "code",
   "execution_count": 7,
   "id": "1503322f",
   "metadata": {},
   "outputs": [
    {
     "data": {
      "text/plain": [
       "<function __main__.say_hello()>"
      ]
     },
     "execution_count": 7,
     "metadata": {},
     "output_type": "execute_result"
    }
   ],
   "source": [
    "say_hello"
   ]
  },
  {
   "cell_type": "code",
   "execution_count": 18,
   "id": "5bba8383",
   "metadata": {},
   "outputs": [],
   "source": [
    "def say_hello(name: str = \"Jhon Do\") -> str:\n",
    "    print(f'Hello {name}')"
   ]
  },
  {
   "cell_type": "code",
   "execution_count": 19,
   "id": "d23396bd",
   "metadata": {},
   "outputs": [
    {
     "name": "stdout",
     "output_type": "stream",
     "text": [
      "Hello Harry\n"
     ]
    }
   ],
   "source": [
    "say_hello('Harry')"
   ]
  },
  {
   "cell_type": "code",
   "execution_count": 20,
   "id": "a6a6b8da",
   "metadata": {},
   "outputs": [
    {
     "name": "stdout",
     "output_type": "stream",
     "text": [
      "Hello Jhon Do\n"
     ]
    }
   ],
   "source": [
    "say_hello()"
   ]
  },
  {
   "cell_type": "code",
   "execution_count": 34,
   "id": "c262885b",
   "metadata": {},
   "outputs": [],
   "source": [
    "def add_num(num1:int = 1, num2: int = 2) -> int :\n",
    "    return num1+num2\n",
    "    "
   ]
  },
  {
   "cell_type": "code",
   "execution_count": 35,
   "id": "0df404ed",
   "metadata": {},
   "outputs": [
    {
     "data": {
      "text/plain": [
       "24"
      ]
     },
     "execution_count": 35,
     "metadata": {},
     "output_type": "execute_result"
    }
   ],
   "source": [
    "add_num(12,12)"
   ]
  },
  {
   "cell_type": "code",
   "execution_count": 36,
   "id": "a0651f8e",
   "metadata": {},
   "outputs": [
    {
     "data": {
      "text/plain": [
       "3"
      ]
     },
     "execution_count": 36,
     "metadata": {},
     "output_type": "execute_result"
    }
   ],
   "source": [
    "add_num()"
   ]
  },
  {
   "cell_type": "code",
   "execution_count": 37,
   "id": "9236773a",
   "metadata": {},
   "outputs": [],
   "source": [
    "result = add_num(21, 21)"
   ]
  },
  {
   "cell_type": "code",
   "execution_count": 38,
   "id": "eed011fc",
   "metadata": {},
   "outputs": [
    {
     "data": {
      "text/plain": [
       "42"
      ]
     },
     "execution_count": 38,
     "metadata": {},
     "output_type": "execute_result"
    }
   ],
   "source": [
    "result"
   ]
  },
  {
   "cell_type": "code",
   "execution_count": 39,
   "id": "b4414fc9",
   "metadata": {},
   "outputs": [],
   "source": [
    "def print_result(a, b):\n",
    "    print(a+b)"
   ]
  },
  {
   "cell_type": "code",
   "execution_count": 40,
   "id": "61a469c5",
   "metadata": {},
   "outputs": [],
   "source": [
    "def return_result(a, b):\n",
    "    return(a+b)"
   ]
  },
  {
   "cell_type": "code",
   "execution_count": 41,
   "id": "e980f417",
   "metadata": {},
   "outputs": [
    {
     "name": "stdout",
     "output_type": "stream",
     "text": [
      "33\n"
     ]
    }
   ],
   "source": [
    "print_result(11,22) # No out cell"
   ]
  },
  {
   "cell_type": "code",
   "execution_count": 42,
   "id": "1e7438c9",
   "metadata": {},
   "outputs": [
    {
     "name": "stdout",
     "output_type": "stream",
     "text": [
      "33\n"
     ]
    }
   ],
   "source": [
    "result = print_result(11,22)"
   ]
  },
  {
   "cell_type": "code",
   "execution_count": 43,
   "id": "8b1891ad",
   "metadata": {},
   "outputs": [],
   "source": [
    "result"
   ]
  },
  {
   "cell_type": "code",
   "execution_count": 44,
   "id": "756142d0",
   "metadata": {},
   "outputs": [
    {
     "data": {
      "text/plain": [
       "NoneType"
      ]
     },
     "execution_count": 44,
     "metadata": {},
     "output_type": "execute_result"
    }
   ],
   "source": [
    "type(result)"
   ]
  },
  {
   "cell_type": "code",
   "execution_count": 45,
   "id": "66f6b261",
   "metadata": {},
   "outputs": [
    {
     "data": {
      "text/plain": [
       "30"
      ]
     },
     "execution_count": 45,
     "metadata": {},
     "output_type": "execute_result"
    }
   ],
   "source": [
    "return_result(10,20)"
   ]
  },
  {
   "cell_type": "code",
   "execution_count": 46,
   "id": "9a2b23a3",
   "metadata": {},
   "outputs": [],
   "source": [
    "result = return_result(11,22)"
   ]
  },
  {
   "cell_type": "code",
   "execution_count": 47,
   "id": "26295907",
   "metadata": {},
   "outputs": [
    {
     "data": {
      "text/plain": [
       "33"
      ]
     },
     "execution_count": 47,
     "metadata": {},
     "output_type": "execute_result"
    }
   ],
   "source": [
    "result"
   ]
  },
  {
   "cell_type": "code",
   "execution_count": 48,
   "id": "9dc83066",
   "metadata": {},
   "outputs": [],
   "source": [
    "def myfunc(a, b):\n",
    "    print(a+b)\n",
    "    return(a+b)# return will stop code execution and must be in the end"
   ]
  },
  {
   "cell_type": "code",
   "execution_count": 49,
   "id": "1f5a3a48",
   "metadata": {},
   "outputs": [
    {
     "name": "stdout",
     "output_type": "stream",
     "text": [
      "33\n"
     ]
    }
   ],
   "source": [
    "result = myfunc(11,22)"
   ]
  },
  {
   "cell_type": "code",
   "execution_count": 50,
   "id": "01e58867",
   "metadata": {},
   "outputs": [],
   "source": [
    "def sum_numbers(n1,n2):\n",
    "    return n1+n2"
   ]
  },
  {
   "cell_type": "code",
   "execution_count": 51,
   "id": "e5a86b1f",
   "metadata": {},
   "outputs": [
    {
     "data": {
      "text/plain": [
       "33"
      ]
     },
     "execution_count": 51,
     "metadata": {},
     "output_type": "execute_result"
    }
   ],
   "source": [
    "sum_numbers(11,22)"
   ]
  },
  {
   "cell_type": "code",
   "execution_count": 52,
   "id": "d4a933c2",
   "metadata": {},
   "outputs": [
    {
     "data": {
      "text/plain": [
       "'DeanSam'"
      ]
     },
     "execution_count": 52,
     "metadata": {},
     "output_type": "execute_result"
    }
   ],
   "source": [
    "sum_numbers('Dean', 'Sam')"
   ]
  },
  {
   "cell_type": "code",
   "execution_count": 53,
   "id": "92eb1c5a",
   "metadata": {},
   "outputs": [
    {
     "data": {
      "text/plain": [
       "0"
      ]
     },
     "execution_count": 53,
     "metadata": {},
     "output_type": "execute_result"
    }
   ],
   "source": [
    "2 % 2 "
   ]
  },
  {
   "cell_type": "code",
   "execution_count": 54,
   "id": "217b7437",
   "metadata": {},
   "outputs": [
    {
     "data": {
      "text/plain": [
       "1"
      ]
     },
     "execution_count": 54,
     "metadata": {},
     "output_type": "execute_result"
    }
   ],
   "source": [
    "3 % 2"
   ]
  },
  {
   "cell_type": "code",
   "execution_count": 55,
   "id": "75c63395",
   "metadata": {},
   "outputs": [
    {
     "data": {
      "text/plain": [
       "True"
      ]
     },
     "execution_count": 55,
     "metadata": {},
     "output_type": "execute_result"
    }
   ],
   "source": [
    "20 % 2 == 0"
   ]
  },
  {
   "cell_type": "code",
   "execution_count": 56,
   "id": "309cb1cb",
   "metadata": {},
   "outputs": [
    {
     "data": {
      "text/plain": [
       "False"
      ]
     },
     "execution_count": 56,
     "metadata": {},
     "output_type": "execute_result"
    }
   ],
   "source": [
    "21 % 2 == 0"
   ]
  },
  {
   "cell_type": "code",
   "execution_count": 57,
   "id": "03412ca0",
   "metadata": {},
   "outputs": [],
   "source": [
    "def even_check(number: int = 0) -> int:\n",
    "    return number % 2 == 0 "
   ]
  },
  {
   "cell_type": "code",
   "execution_count": 58,
   "id": "9a0903fd",
   "metadata": {},
   "outputs": [
    {
     "data": {
      "text/plain": [
       "True"
      ]
     },
     "execution_count": 58,
     "metadata": {},
     "output_type": "execute_result"
    }
   ],
   "source": [
    "even_check(20)"
   ]
  },
  {
   "cell_type": "code",
   "execution_count": 59,
   "id": "9eda1c59",
   "metadata": {},
   "outputs": [
    {
     "data": {
      "text/plain": [
       "False"
      ]
     },
     "execution_count": 59,
     "metadata": {},
     "output_type": "execute_result"
    }
   ],
   "source": [
    "even_check(11)"
   ]
  },
  {
   "cell_type": "code",
   "execution_count": 72,
   "id": "d44422fd",
   "metadata": {},
   "outputs": [],
   "source": [
    "# Return true if any num is even inside a list\n",
    "import typing\n",
    "\n",
    "def check_even_list(num_list: list[int]) -> bool:\n",
    "    for n in num_list:\n",
    "        if n % 2 == 0:\n",
    "            return True\n",
    "        else:\n",
    "            #return False - is wrong!\n",
    "            pass\n",
    "    return False"
   ]
  },
  {
   "cell_type": "code",
   "execution_count": 67,
   "id": "9c41f5e7",
   "metadata": {},
   "outputs": [],
   "source": [
    "check_even_list([1,3,5])"
   ]
  },
  {
   "cell_type": "code",
   "execution_count": 68,
   "id": "c5a5aaf5",
   "metadata": {},
   "outputs": [
    {
     "data": {
      "text/plain": [
       "True"
      ]
     },
     "execution_count": 68,
     "metadata": {},
     "output_type": "execute_result"
    }
   ],
   "source": [
    "check_even_list([2,4,6])"
   ]
  },
  {
   "cell_type": "code",
   "execution_count": 69,
   "id": "d7ecab2c",
   "metadata": {},
   "outputs": [
    {
     "ename": "TypeError",
     "evalue": "not all arguments converted during string formatting",
     "output_type": "error",
     "traceback": [
      "\u001b[0;31m---------------------------------------------------------------------------\u001b[0m",
      "\u001b[0;31mTypeError\u001b[0m                                 Traceback (most recent call last)",
      "\u001b[0;32m/var/folders/05/bggtyk4x4jj3x6_f_ws0c4jc0000gn/T/ipykernel_23667/1738178479.py\u001b[0m in \u001b[0;36m<module>\u001b[0;34m\u001b[0m\n\u001b[0;32m----> 1\u001b[0;31m \u001b[0mcheck_even_list\u001b[0m\u001b[0;34m(\u001b[0m\u001b[0;34m[\u001b[0m\u001b[0;34m'one'\u001b[0m\u001b[0;34m,\u001b[0m\u001b[0;34m'2'\u001b[0m\u001b[0;34m,\u001b[0m\u001b[0;34m'3'\u001b[0m\u001b[0;34m]\u001b[0m\u001b[0;34m)\u001b[0m\u001b[0;34m\u001b[0m\u001b[0;34m\u001b[0m\u001b[0m\n\u001b[0m",
      "\u001b[0;32m/var/folders/05/bggtyk4x4jj3x6_f_ws0c4jc0000gn/T/ipykernel_23667/3168580349.py\u001b[0m in \u001b[0;36mcheck_even_list\u001b[0;34m(num_list)\u001b[0m\n\u001b[1;32m      4\u001b[0m \u001b[0;32mdef\u001b[0m \u001b[0mcheck_even_list\u001b[0m\u001b[0;34m(\u001b[0m\u001b[0mnum_list\u001b[0m\u001b[0;34m:\u001b[0m \u001b[0mlist\u001b[0m\u001b[0;34m[\u001b[0m\u001b[0mint\u001b[0m\u001b[0;34m]\u001b[0m\u001b[0;34m)\u001b[0m \u001b[0;34m->\u001b[0m \u001b[0mbool\u001b[0m\u001b[0;34m:\u001b[0m\u001b[0;34m\u001b[0m\u001b[0;34m\u001b[0m\u001b[0m\n\u001b[1;32m      5\u001b[0m     \u001b[0;32mfor\u001b[0m \u001b[0mn\u001b[0m \u001b[0;32min\u001b[0m \u001b[0mnum_list\u001b[0m\u001b[0;34m:\u001b[0m\u001b[0;34m\u001b[0m\u001b[0;34m\u001b[0m\u001b[0m\n\u001b[0;32m----> 6\u001b[0;31m         \u001b[0;32mif\u001b[0m \u001b[0mn\u001b[0m \u001b[0;34m%\u001b[0m \u001b[0;36m2\u001b[0m \u001b[0;34m==\u001b[0m \u001b[0;36m0\u001b[0m\u001b[0;34m:\u001b[0m\u001b[0;34m\u001b[0m\u001b[0;34m\u001b[0m\u001b[0m\n\u001b[0m\u001b[1;32m      7\u001b[0m             \u001b[0;32mreturn\u001b[0m \u001b[0;32mTrue\u001b[0m\u001b[0;34m\u001b[0m\u001b[0;34m\u001b[0m\u001b[0m\n\u001b[1;32m      8\u001b[0m         \u001b[0;32melse\u001b[0m\u001b[0;34m:\u001b[0m\u001b[0;34m\u001b[0m\u001b[0;34m\u001b[0m\u001b[0m\n",
      "\u001b[0;31mTypeError\u001b[0m: not all arguments converted during string formatting"
     ]
    }
   ],
   "source": [
    "check_even_list(['one','2','3'])"
   ]
  },
  {
   "cell_type": "code",
   "execution_count": 70,
   "id": "0e101afc",
   "metadata": {},
   "outputs": [
    {
     "data": {
      "text/plain": [
       "True"
      ]
     },
     "execution_count": 70,
     "metadata": {},
     "output_type": "execute_result"
    }
   ],
   "source": [
    "check_even_list([2,1,1,1,1])"
   ]
  },
  {
   "cell_type": "code",
   "execution_count": 71,
   "id": "3a1f95ff",
   "metadata": {},
   "outputs": [
    {
     "data": {
      "text/plain": [
       "True"
      ]
     },
     "execution_count": 71,
     "metadata": {},
     "output_type": "execute_result"
    }
   ],
   "source": [
    "check_even_list([1,1,1,1,1,2])"
   ]
  },
  {
   "cell_type": "code",
   "execution_count": 73,
   "id": "c3c0bf21",
   "metadata": {},
   "outputs": [
    {
     "data": {
      "text/plain": [
       "False"
      ]
     },
     "execution_count": 73,
     "metadata": {},
     "output_type": "execute_result"
    }
   ],
   "source": [
    "check_even_list([1,3,5,7,9])"
   ]
  },
  {
   "cell_type": "code",
   "execution_count": 86,
   "id": "63ba171a",
   "metadata": {},
   "outputs": [],
   "source": [
    "# Return true if any num is even inside a list\n",
    "import typing\n",
    "\n",
    "# Return all the even numbers in a list\n",
    "\n",
    "def check_even_list(num_list: list[int]) -> bool:\n",
    "    even_numbers = [] \n",
    "    \n",
    "    for n in num_list:\n",
    "        if n % 2 == 0:\n",
    "            even_numbers.append(n)\n",
    "        else:\n",
    "            pass\n",
    "    return even_numbers"
   ]
  },
  {
   "cell_type": "code",
   "execution_count": 87,
   "id": "3552e2d7",
   "metadata": {},
   "outputs": [
    {
     "data": {
      "text/plain": [
       "[2, 4, 6, 8, 10]"
      ]
     },
     "execution_count": 87,
     "metadata": {},
     "output_type": "execute_result"
    }
   ],
   "source": [
    "check_even_list([1,2,3,4,5,6,7,8,9,10])"
   ]
  },
  {
   "cell_type": "code",
   "execution_count": 88,
   "id": "eb76bf63",
   "metadata": {},
   "outputs": [
    {
     "data": {
      "text/plain": [
       "[]"
      ]
     },
     "execution_count": 88,
     "metadata": {},
     "output_type": "execute_result"
    }
   ],
   "source": [
    "check_even_list([1,3,5])"
   ]
  },
  {
   "cell_type": "code",
   "execution_count": 89,
   "id": "2d42d044",
   "metadata": {},
   "outputs": [],
   "source": [
    "stock_prices = [('Apple', 200), ('Google', 150), ('Microsoft', 50)]"
   ]
  },
  {
   "cell_type": "code",
   "execution_count": 91,
   "id": "89e39173",
   "metadata": {},
   "outputs": [
    {
     "name": "stdout",
     "output_type": "stream",
     "text": [
      "('Apple', 200)\n",
      "('Google', 150)\n",
      "('Microsoft', 50)\n"
     ]
    }
   ],
   "source": [
    "for item in stock_prices:\n",
    "    print(item)"
   ]
  },
  {
   "cell_type": "code",
   "execution_count": 93,
   "id": "ba1d3ac4",
   "metadata": {},
   "outputs": [
    {
     "name": "stdout",
     "output_type": "stream",
     "text": [
      "Apple\n",
      "Google\n",
      "Microsoft\n"
     ]
    }
   ],
   "source": [
    "for ticker, price in stock_prices:\n",
    "    print(ticker)"
   ]
  },
  {
   "cell_type": "code",
   "execution_count": 94,
   "id": "e0e46bef",
   "metadata": {},
   "outputs": [
    {
     "name": "stdout",
     "output_type": "stream",
     "text": [
      "220.0\n",
      "165.0\n",
      "55.0\n"
     ]
    }
   ],
   "source": [
    "for ticker, price in stock_prices:\n",
    "    print(price+(0.1*price))"
   ]
  },
  {
   "cell_type": "code",
   "execution_count": 95,
   "id": "63edc203",
   "metadata": {},
   "outputs": [],
   "source": [
    "work_hours = [('Abby', 100), ('Billy', 400), ('Cassie', 800)]"
   ]
  },
  {
   "cell_type": "code",
   "execution_count": 96,
   "id": "99af21ea",
   "metadata": {},
   "outputs": [],
   "source": [
    "def employee_check(work_hours):\n",
    "    current_max = 0\n",
    "    employee_of_month = ''\n",
    "    \n",
    "    return(employee_of_month, current_max)"
   ]
  },
  {
   "cell_type": "code",
   "execution_count": null,
   "id": "ef2fe76f",
   "metadata": {},
   "outputs": [],
   "source": []
  }
 ],
 "metadata": {
  "kernelspec": {
   "display_name": "Python 3 (ipykernel)",
   "language": "python",
   "name": "python3"
  },
  "language_info": {
   "codemirror_mode": {
    "name": "ipython",
    "version": 3
   },
   "file_extension": ".py",
   "mimetype": "text/x-python",
   "name": "python",
   "nbconvert_exporter": "python",
   "pygments_lexer": "ipython3",
   "version": "3.9.7"
  }
 },
 "nbformat": 4,
 "nbformat_minor": 5
}
