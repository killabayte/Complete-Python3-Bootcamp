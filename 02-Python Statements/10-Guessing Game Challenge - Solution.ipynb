{
 "cells": [
  {
   "cell_type": "markdown",
   "metadata": {},
   "source": [
    "# Guessing Game Challenge\n",
    "\n",
    "Let's use `while` loops to create a guessing game.\n",
    "\n",
    "The Challenge:\n",
    "\n",
    "Write a program that picks a random integer from 1 to 100, and has players guess the number. The rules are:\n",
    "\n",
    "1. If a player's guess is less than 1 or greater than 100, say \"OUT OF BOUNDS\"\n",
    "2. On a player's first turn, if their guess is\n",
    " * within 10 of the number, return \"WARM!\"\n",
    " * further than 10 away from the number, return \"COLD!\"\n",
    "3. On all subsequent turns, if a guess is \n",
    " * closer to the number than the previous guess return \"WARMER!\"\n",
    " * farther from the number than the previous guess, return \"COLDER!\"\n",
    "4. When the player's guess equals the number, tell them they've guessed correctly *and* how many guesses it took!\n",
    "\n",
    "You can try this from scratch, or follow the steps outlined below. A separate Solution notebook has been provided. Good luck!\n"
   ]
  },
  {
   "cell_type": "markdown",
   "metadata": {},
   "source": [
    "#### First, pick a random integer from 1 to 100 using the random module and assign it to a variable\n",
    "\n",
    "Note: `random.randint(a,b)` returns a random integer in range `[a, b]`, including both end points."
   ]
  },
  {
   "cell_type": "code",
   "execution_count": null,
   "metadata": {},
   "outputs": [],
   "source": [
    "import random\n",
    "CONST_NUMBER_TO_GUESS = random.randint(1,100)\n",
    "last_user_guess = 0"
   ]
  },
  {
   "cell_type": "markdown",
   "metadata": {},
   "source": [
    "#### Next, print an introduction to the game and explain the rules"
   ]
  },
  {
   "cell_type": "code",
   "execution_count": null,
   "metadata": {},
   "outputs": [],
   "source": [
    "print(\"This is an instruction to the game and its rules\")"
   ]
  },
  {
   "cell_type": "markdown",
   "metadata": {},
   "source": [
    "#### Create a list to store guesses\n",
    "\n",
    "Hint: zero is a good placeholder value. It's useful because it evaluates to \"False\""
   ]
  },
  {
   "cell_type": "code",
   "execution_count": null,
   "metadata": {},
   "outputs": [],
   "source": [
    "guesses = 0"
   ]
  },
  {
   "cell_type": "markdown",
   "metadata": {},
   "source": [
    "#### Write a `while` loop that asks for a valid guess. Test it a few times to make sure it works."
   ]
  },
  {
   "cell_type": "code",
   "execution_count": null,
   "metadata": {},
   "outputs": [],
   "source": [
    "while True:\n",
    "    user_guess = int(input(\"Put your number from 1 to 100: \"))\n",
    "    if user_guess < 1 or user_guess > 100:\n",
    "        print(\"Number is out of range! Number must be from 1 to 100!\")\n",
    "        continue\n",
    "    else:\n",
    "        last_user_guess = user_guess\n",
    "        guesses += 1\n",
    "        break"
   ]
  },
  {
   "cell_type": "markdown",
   "metadata": {},
   "source": [
    "#### Write a `while` loop that compares the player's guess to our number. If the player guesses correctly, break from the loop. Otherwise, tell the player if they're warmer or colder, and continue asking for guesses.\n",
    "\n",
    "Some hints:\n",
    "* it may help to sketch out all possible combinations on paper first!\n",
    "* you can use the `abs()` function to find the positive difference between two numbers\n",
    "* if you append all new guesses to the list, then the previous guess is given as `guesses[-2]`"
   ]
  },
  {
   "cell_type": "code",
   "execution_count": 4,
   "metadata": {},
   "outputs": [
    {
     "name": "stdout",
     "output_type": "stream",
     "text": [
      "Put your number from 1 to 100: 77\n",
      "COLD!\n",
      "Put your number from 1 to 100: 55\n",
      "WARMER!\n",
      "Put your number from 1 to 100: 44\n",
      "COLDER!\n",
      "Put your number from 1 to 100: 49\n",
      "WARMER!\n",
      "Put your number from 1 to 100: 51\n",
      "WARMER!\n",
      "Put your number from 1 to 100: 52\n",
      "WARMER!\n",
      "Put your number from 1 to 100: 53\n",
      "This is a big victory!\n"
     ]
    }
   ],
   "source": [
    "import random\n",
    "\n",
    "NUMBER_TO_GUESS = random.randint(1,100)\n",
    "\n",
    "last_user_guess = 0\n",
    "guesses = 0\n",
    "\n",
    "while True:\n",
    "    user_guess = int(input(\"Put your number from 1 to 100: \"))\n",
    "    \n",
    "    if user_guess < 1 or user_guess > 100:\n",
    "        print(\"Number is out of range! Number must be from 1 to 100!\")\n",
    "        continue\n",
    "\n",
    "    guesses += 1\n",
    "        \n",
    "    if user_guess == NUMBER_TO_GUESS:\n",
    "        print(\"This is a big victory!\")\n",
    "        break\n",
    "    \n",
    "    if guesses > 1:\n",
    "        if abs(NUMBER_TO_GUESS - user_guess) <= abs(NUMBER_TO_GUESS - last_user_guess):\n",
    "            print(\"WARMER!\")\n",
    "        else:\n",
    "            print(\"COLDER!\")\n",
    "    else:\n",
    "        if user_guess != NUMBER_TO_GUESS and user_guess in range(NUMBER_TO_GUESS-10, NUMBER_TO_GUESS+10):\n",
    "            print(\"WARM!\")\n",
    "        else:\n",
    "            print(\"COLD!\")\n",
    "            \n",
    "    last_user_guess = user_guess\n",
    "    \n",
    "    "
   ]
  },
  {
   "cell_type": "markdown",
   "metadata": {},
   "source": [
    "That's it! You've just programmed your first game!\n",
    "\n",
    "In the next section we'll learn how to turn some of these repetitive actions into *functions* that can be called whenever we need them."
   ]
  },
  {
   "cell_type": "markdown",
   "metadata": {},
   "source": [
    "### Good Job!"
   ]
  }
 ],
 "metadata": {
  "kernelspec": {
   "display_name": "Python 3 (ipykernel)",
   "language": "python",
   "name": "python3"
  },
  "language_info": {
   "codemirror_mode": {
    "name": "ipython",
    "version": 3
   },
   "file_extension": ".py",
   "mimetype": "text/x-python",
   "name": "python",
   "nbconvert_exporter": "python",
   "pygments_lexer": "ipython3",
   "version": "3.9.7"
  }
 },
 "nbformat": 4,
 "nbformat_minor": 2
}
