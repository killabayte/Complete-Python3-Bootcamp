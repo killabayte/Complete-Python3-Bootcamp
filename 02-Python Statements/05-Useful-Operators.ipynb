{
 "cells": [
  {
   "cell_type": "code",
   "execution_count": 1,
   "id": "7a8eab24",
   "metadata": {},
   "outputs": [],
   "source": [
    "mylist = [1,2,3]"
   ]
  },
  {
   "cell_type": "code",
   "execution_count": 6,
   "id": "d611c7fe",
   "metadata": {},
   "outputs": [
    {
     "name": "stdout",
     "output_type": "stream",
     "text": [
      "0\n",
      "2\n",
      "4\n",
      "6\n",
      "8\n",
      "10\n"
     ]
    }
   ],
   "source": [
    "for _ in range(0, 11, 2):\n",
    "    print(_)"
   ]
  },
  {
   "cell_type": "code",
   "execution_count": 7,
   "id": "17356d13",
   "metadata": {},
   "outputs": [
    {
     "data": {
      "text/plain": [
       "range(0, 11, 2)"
      ]
     },
     "execution_count": 7,
     "metadata": {},
     "output_type": "execute_result"
    }
   ],
   "source": [
    "range(0, 11, 2)"
   ]
  },
  {
   "cell_type": "code",
   "execution_count": 8,
   "id": "43e82c2a",
   "metadata": {},
   "outputs": [
    {
     "data": {
      "text/plain": [
       "[0, 2, 4, 6, 8, 10]"
      ]
     },
     "execution_count": 8,
     "metadata": {},
     "output_type": "execute_result"
    }
   ],
   "source": [
    "list(range(0, 11, 2))"
   ]
  },
  {
   "cell_type": "code",
   "execution_count": 10,
   "id": "037a5397",
   "metadata": {},
   "outputs": [
    {
     "name": "stdout",
     "output_type": "stream",
     "text": [
      "At index 0 the letter is a\n",
      "At index 1 the letter is b\n",
      "At index 2 the letter is c\n",
      "At index 3 the letter is d\n",
      "At index 4 the letter is e\n"
     ]
    }
   ],
   "source": [
    "index_count = 0\n",
    "\n",
    "for l in 'abcde':\n",
    "    print(f'At index {index_count} the letter is {l}')\n",
    "    index_count += 1"
   ]
  },
  {
   "cell_type": "code",
   "execution_count": 12,
   "id": "31783da2",
   "metadata": {},
   "outputs": [
    {
     "name": "stdout",
     "output_type": "stream",
     "text": [
      "a\n",
      "b\n",
      "c\n",
      "d\n",
      "e\n",
      "f\n",
      "g\n"
     ]
    }
   ],
   "source": [
    "index_count = 0\n",
    "special = 'abcdefg'\n",
    "\n",
    "for l in special:\n",
    "    print(special[index_count])\n",
    "    index_count += 1"
   ]
  },
  {
   "cell_type": "code",
   "execution_count": 15,
   "id": "f981d438",
   "metadata": {},
   "outputs": [
    {
     "name": "stdout",
     "output_type": "stream",
     "text": [
      "(0, 'a')\n",
      "(1, 'b')\n",
      "(2, 'c')\n",
      "(3, 'd')\n",
      "(4, 'e')\n",
      "(5, 'f')\n",
      "(6, 'g')\n"
     ]
    }
   ],
   "source": [
    "special = 'abcdefg'\n",
    "for l in enumerate(special):\n",
    "    print(l)\n",
    "    "
   ]
  },
  {
   "cell_type": "code",
   "execution_count": 18,
   "id": "a2eb288b",
   "metadata": {},
   "outputs": [
    {
     "name": "stdout",
     "output_type": "stream",
     "text": [
      "a accessible by 0 index\n",
      "b accessible by 1 index\n",
      "c accessible by 2 index\n",
      "d accessible by 3 index\n",
      "e accessible by 4 index\n",
      "f accessible by 5 index\n",
      "g accessible by 6 index\n"
     ]
    }
   ],
   "source": [
    "special = 'abcdefg'\n",
    "for index,letter in enumerate(special):\n",
    "    print(letter, \"accessible by\", index, \"index\")"
   ]
  },
  {
   "cell_type": "code",
   "execution_count": 26,
   "id": "8fe0fa08",
   "metadata": {},
   "outputs": [],
   "source": [
    "mylist1 = [1,2,3,4,5,6,7]\n",
    "mylist2 = [\"a\",\"b\",\"c\",\"d\",\"e\"]\n",
    "mylist3 = [101, 102, 103, 104, 105]"
   ]
  },
  {
   "cell_type": "code",
   "execution_count": 27,
   "id": "ec5fa883",
   "metadata": {},
   "outputs": [
    {
     "name": "stdout",
     "output_type": "stream",
     "text": [
      "(1, 'a', 101)\n",
      "(2, 'b', 102)\n",
      "(3, 'c', 103)\n",
      "(4, 'd', 104)\n",
      "(5, 'e', 105)\n"
     ]
    }
   ],
   "source": [
    "for _ in zip(mylist1, mylist2, mylist3):\n",
    "    print(_)"
   ]
  },
  {
   "cell_type": "code",
   "execution_count": 28,
   "id": "21ba6c23",
   "metadata": {},
   "outputs": [
    {
     "data": {
      "text/plain": [
       "[(1, 'a', 101), (2, 'b', 102), (3, 'c', 103), (4, 'd', 104), (5, 'e', 105)]"
      ]
     },
     "execution_count": 28,
     "metadata": {},
     "output_type": "execute_result"
    }
   ],
   "source": [
    "list(zip(mylist1, mylist2, mylist3))"
   ]
  },
  {
   "cell_type": "code",
   "execution_count": null,
   "id": "be3145a0",
   "metadata": {},
   "outputs": [],
   "source": []
  }
 ],
 "metadata": {
  "kernelspec": {
   "display_name": "Python 3 (ipykernel)",
   "language": "python",
   "name": "python3"
  },
  "language_info": {
   "codemirror_mode": {
    "name": "ipython",
    "version": 3
   },
   "file_extension": ".py",
   "mimetype": "text/x-python",
   "name": "python",
   "nbconvert_exporter": "python",
   "pygments_lexer": "ipython3",
   "version": "3.9.7"
  }
 },
 "nbformat": 4,
 "nbformat_minor": 5
}
