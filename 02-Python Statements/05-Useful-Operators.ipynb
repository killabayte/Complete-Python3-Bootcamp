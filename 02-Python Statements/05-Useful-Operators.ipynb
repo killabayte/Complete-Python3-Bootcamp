{
 "cells": [
  {
   "cell_type": "code",
   "execution_count": 1,
   "id": "8f781842",
   "metadata": {},
   "outputs": [],
   "source": [
    "mylist = [1,2,3]"
   ]
  },
  {
   "cell_type": "code",
   "execution_count": 6,
   "id": "9a07778f",
   "metadata": {},
   "outputs": [
    {
     "name": "stdout",
     "output_type": "stream",
     "text": [
      "0\n",
      "2\n",
      "4\n",
      "6\n",
      "8\n",
      "10\n"
     ]
    }
   ],
   "source": [
    "for _ in range(0, 11, 2):\n",
    "    print(_)"
   ]
  },
  {
   "cell_type": "code",
   "execution_count": 7,
   "id": "e7ccd71a",
   "metadata": {},
   "outputs": [
    {
     "data": {
      "text/plain": [
       "range(0, 11, 2)"
      ]
     },
     "execution_count": 7,
     "metadata": {},
     "output_type": "execute_result"
    }
   ],
   "source": [
    "range(0, 11, 2)"
   ]
  },
  {
   "cell_type": "code",
   "execution_count": 8,
   "id": "037cd657",
   "metadata": {},
   "outputs": [
    {
     "data": {
      "text/plain": [
       "[0, 2, 4, 6, 8, 10]"
      ]
     },
     "execution_count": 8,
     "metadata": {},
     "output_type": "execute_result"
    }
   ],
   "source": [
    "list(range(0, 11, 2))"
   ]
  },
  {
   "cell_type": "code",
   "execution_count": 10,
   "id": "08d5d882",
   "metadata": {},
   "outputs": [
    {
     "name": "stdout",
     "output_type": "stream",
     "text": [
      "At index 0 the letter is a\n",
      "At index 1 the letter is b\n",
      "At index 2 the letter is c\n",
      "At index 3 the letter is d\n",
      "At index 4 the letter is e\n"
     ]
    }
   ],
   "source": [
    "index_count = 0\n",
    "\n",
    "for l in 'abcde':\n",
    "    print(f'At index {index_count} the letter is {l}')\n",
    "    index_count += 1"
   ]
  },
  {
   "cell_type": "code",
   "execution_count": 12,
   "id": "eb7e40be",
   "metadata": {},
   "outputs": [
    {
     "name": "stdout",
     "output_type": "stream",
     "text": [
      "a\n",
      "b\n",
      "c\n",
      "d\n",
      "e\n",
      "f\n",
      "g\n"
     ]
    }
   ],
   "source": [
    "index_count = 0\n",
    "special = 'abcdefg'\n",
    "\n",
    "for l in special:\n",
    "    print(special[index_count])\n",
    "    index_count += 1"
   ]
  },
  {
   "cell_type": "code",
   "execution_count": 15,
   "id": "e9cbfb2f",
   "metadata": {},
   "outputs": [
    {
     "name": "stdout",
     "output_type": "stream",
     "text": [
      "(0, 'a')\n",
      "(1, 'b')\n",
      "(2, 'c')\n",
      "(3, 'd')\n",
      "(4, 'e')\n",
      "(5, 'f')\n",
      "(6, 'g')\n"
     ]
    }
   ],
   "source": [
    "special = 'abcdefg'\n",
    "for l in enumerate(special):\n",
    "    print(l)\n",
    "    "
   ]
  },
  {
   "cell_type": "code",
   "execution_count": 18,
   "id": "c43b4fd8",
   "metadata": {},
   "outputs": [
    {
     "name": "stdout",
     "output_type": "stream",
     "text": [
      "a accessible by 0 index\n",
      "b accessible by 1 index\n",
      "c accessible by 2 index\n",
      "d accessible by 3 index\n",
      "e accessible by 4 index\n",
      "f accessible by 5 index\n",
      "g accessible by 6 index\n"
     ]
    }
   ],
   "source": [
    "special = 'abcdefg'\n",
    "for index,letter in enumerate(special):\n",
    "    print(letter, \"accessible by\", index, \"index\")"
   ]
  },
  {
   "cell_type": "code",
   "execution_count": 26,
   "id": "5d8d95a9",
   "metadata": {},
   "outputs": [],
   "source": [
    "mylist1 = [1,2,3,4,5,6,7]\n",
    "mylist2 = [\"a\",\"b\",\"c\",\"d\",\"e\"]\n",
    "mylist3 = [101, 102, 103, 104, 105]"
   ]
  },
  {
   "cell_type": "code",
   "execution_count": 27,
   "id": "ef9757d1",
   "metadata": {},
   "outputs": [
    {
     "name": "stdout",
     "output_type": "stream",
     "text": [
      "(1, 'a', 101)\n",
      "(2, 'b', 102)\n",
      "(3, 'c', 103)\n",
      "(4, 'd', 104)\n",
      "(5, 'e', 105)\n"
     ]
    }
   ],
   "source": [
    "for _ in zip(mylist1, mylist2, mylist3):\n",
    "    print(_)"
   ]
  },
  {
   "cell_type": "code",
   "execution_count": 28,
   "id": "592901dc",
   "metadata": {},
   "outputs": [
    {
     "data": {
      "text/plain": [
       "[(1, 'a', 101), (2, 'b', 102), (3, 'c', 103), (4, 'd', 104), (5, 'e', 105)]"
      ]
     },
     "execution_count": 28,
     "metadata": {},
     "output_type": "execute_result"
    }
   ],
   "source": [
    "list(zip(mylist1, mylist2, mylist3))"
   ]
  },
  {
   "cell_type": "code",
   "execution_count": 29,
   "id": "4dbacb5f",
   "metadata": {},
   "outputs": [
    {
     "data": {
      "text/plain": [
       "False"
      ]
     },
     "execution_count": 29,
     "metadata": {},
     "output_type": "execute_result"
    }
   ],
   "source": [
    "'x' in [1,2,3]"
   ]
  },
  {
   "cell_type": "code",
   "execution_count": 30,
   "id": "27309f68",
   "metadata": {},
   "outputs": [
    {
     "data": {
      "text/plain": [
       "True"
      ]
     },
     "execution_count": 30,
     "metadata": {},
     "output_type": "execute_result"
    }
   ],
   "source": [
    "'x' in ['x','y','z']"
   ]
  },
  {
   "cell_type": "code",
   "execution_count": 31,
   "id": "78286a8b",
   "metadata": {},
   "outputs": [
    {
     "data": {
      "text/plain": [
       "True"
      ]
     },
     "execution_count": 31,
     "metadata": {},
     "output_type": "execute_result"
    }
   ],
   "source": [
    "'a' in 'a world'"
   ]
  },
  {
   "cell_type": "code",
   "execution_count": 32,
   "id": "aeae483e",
   "metadata": {},
   "outputs": [
    {
     "data": {
      "text/plain": [
       "True"
      ]
     },
     "execution_count": 32,
     "metadata": {},
     "output_type": "execute_result"
    }
   ],
   "source": [
    "'mykey' in {'mykey':365}"
   ]
  },
  {
   "cell_type": "code",
   "execution_count": 33,
   "id": "1be003cc",
   "metadata": {},
   "outputs": [
    {
     "data": {
      "text/plain": [
       "False"
      ]
     },
     "execution_count": 33,
     "metadata": {},
     "output_type": "execute_result"
    }
   ],
   "source": [
    "365 in {'mykey':365}"
   ]
  },
  {
   "cell_type": "code",
   "execution_count": 36,
   "id": "be0b7a75",
   "metadata": {},
   "outputs": [
    {
     "data": {
      "text/plain": [
       "True"
      ]
     },
     "execution_count": 36,
     "metadata": {},
     "output_type": "execute_result"
    }
   ],
   "source": [
    "d = {'mykey':365}\n",
    "365 in d.values()"
   ]
  },
  {
   "cell_type": "code",
   "execution_count": 37,
   "id": "81b18333",
   "metadata": {},
   "outputs": [],
   "source": [
    "mylist = [10, 20, 30, 40, 99]"
   ]
  },
  {
   "cell_type": "code",
   "execution_count": 38,
   "id": "e61ce085",
   "metadata": {},
   "outputs": [
    {
     "data": {
      "text/plain": [
       "10"
      ]
     },
     "execution_count": 38,
     "metadata": {},
     "output_type": "execute_result"
    }
   ],
   "source": [
    "min(mylist)"
   ]
  },
  {
   "cell_type": "code",
   "execution_count": 39,
   "id": "2f79298d",
   "metadata": {},
   "outputs": [
    {
     "data": {
      "text/plain": [
       "99"
      ]
     },
     "execution_count": 39,
     "metadata": {},
     "output_type": "execute_result"
    }
   ],
   "source": [
    "max(mylist)"
   ]
  },
  {
   "cell_type": "code",
   "execution_count": 41,
   "id": "5f974be8",
   "metadata": {},
   "outputs": [],
   "source": [
    "from random import shuffle\n",
    "mylist = [1,2,3,4,5,6,7,8,9,10,11]"
   ]
  },
  {
   "cell_type": "code",
   "execution_count": 42,
   "id": "cce7af1d",
   "metadata": {},
   "outputs": [],
   "source": [
    "shuffle(mylist)"
   ]
  },
  {
   "cell_type": "code",
   "execution_count": 43,
   "id": "5a87d66d",
   "metadata": {},
   "outputs": [
    {
     "data": {
      "text/plain": [
       "[2, 10, 1, 11, 4, 3, 7, 9, 8, 6, 5]"
      ]
     },
     "execution_count": 43,
     "metadata": {},
     "output_type": "execute_result"
    }
   ],
   "source": [
    "mylist\n"
   ]
  },
  {
   "cell_type": "code",
   "execution_count": null,
   "id": "4bd4e6e3",
   "metadata": {},
   "outputs": [],
   "source": []
  }
 ],
 "metadata": {
  "kernelspec": {
   "display_name": "Python 3 (ipykernel)",
   "language": "python",
   "name": "python3"
  },
  "language_info": {
   "codemirror_mode": {
    "name": "ipython",
    "version": 3
   },
   "file_extension": ".py",
   "mimetype": "text/x-python",
   "name": "python",
   "nbconvert_exporter": "python",
   "pygments_lexer": "ipython3",
   "version": "3.9.7"
  }
 },
 "nbformat": 4,
 "nbformat_minor": 5
}
