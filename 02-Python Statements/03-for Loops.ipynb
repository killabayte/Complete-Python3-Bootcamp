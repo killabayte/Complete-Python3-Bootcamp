{
 "cells": [
  {
   "cell_type": "code",
   "execution_count": 1,
   "id": "0bfd3117",
   "metadata": {},
   "outputs": [],
   "source": [
    "my_list = [1,2,3,4,5,6,7,8,9,10]"
   ]
  },
  {
   "cell_type": "code",
   "execution_count": 3,
   "id": "6c6d902c",
   "metadata": {},
   "outputs": [
    {
     "name": "stdout",
     "output_type": "stream",
     "text": [
      "1\n",
      "2\n",
      "3\n",
      "4\n",
      "5\n",
      "6\n",
      "7\n",
      "8\n",
      "9\n",
      "10\n"
     ]
    }
   ],
   "source": [
    "for num in my_list:\n",
    "    print(num)"
   ]
  },
  {
   "cell_type": "code",
   "execution_count": 4,
   "id": "af219f7e",
   "metadata": {},
   "outputs": [
    {
     "name": "stdout",
     "output_type": "stream",
     "text": [
      "Hello, this is your nums: 1\n",
      "Hello, this is your nums: 2\n",
      "Hello, this is your nums: 3\n",
      "Hello, this is your nums: 4\n",
      "Hello, this is your nums: 5\n",
      "Hello, this is your nums: 6\n",
      "Hello, this is your nums: 7\n",
      "Hello, this is your nums: 8\n",
      "Hello, this is your nums: 9\n",
      "Hello, this is your nums: 10\n"
     ]
    }
   ],
   "source": [
    "for num in my_list:\n",
    "    print(\"Hello, this is your nums:\", num)"
   ]
  },
  {
   "cell_type": "code",
   "execution_count": null,
   "id": "6259db85",
   "metadata": {},
   "outputs": [],
   "source": []
  }
 ],
 "metadata": {
  "kernelspec": {
   "display_name": "Python 3 (ipykernel)",
   "language": "python",
   "name": "python3"
  },
  "language_info": {
   "codemirror_mode": {
    "name": "ipython",
    "version": 3
   },
   "file_extension": ".py",
   "mimetype": "text/x-python",
   "name": "python",
   "nbconvert_exporter": "python",
   "pygments_lexer": "ipython3",
   "version": "3.9.7"
  }
 },
 "nbformat": 4,
 "nbformat_minor": 5
}
